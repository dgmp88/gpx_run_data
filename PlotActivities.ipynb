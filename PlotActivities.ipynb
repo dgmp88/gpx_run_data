{
 "cells": [
  {
   "cell_type": "code",
   "execution_count": 1,
   "metadata": {
    "collapsed": false,
    "deletable": true,
    "editable": true
   },
   "outputs": [
    {
     "name": "stdout",
     "output_type": "stream",
     "text": [
      "Populating the interactive namespace from numpy and matplotlib\n"
     ]
    }
   ],
   "source": [
    "%pylab inline\n",
    "from glob import glob\n",
    "import pandas as pd \n",
    "import re\n",
    "import seaborn as sns\n",
    "\n",
    "def load_file(file):\n",
    "    '''\n",
    "    Read in a single .gpx file\n",
    "    '''\n",
    "    with open(file, 'r') as f:        \n",
    "        data = f.read()\n",
    "\n",
    "        res = pd.DataFrame()\n",
    "        res['lat'] = re.findall('<trkpt lat=\"([-0-9\\.]+)\" lon=\"[-0-9\\.]+\">', data)\n",
    "        res['lon'] = re.findall('<trkpt lat=\"[-0-9\\.]+\" lon=\"([-0-9\\.]+)\">', data)\n",
    "        res['ele'] = re.findall('<ele>([-0-9\\.]+)</ele>', data)\n",
    "        res[['lat','lon','ele']] = res[['lat','lon','ele']].apply(lambda x: x.astype(float))\n",
    "        \n",
    "        \n",
    "        res['time'] = re.findall('<time>([-0-9:TZ]+)</time>', data)[1:]\n",
    "        res['time'] = pd.to_datetime(res['time'])\n",
    "        \n",
    "    # Extra processing\n",
    "    res['dist'] = lat_lon_to_m(res.lat, res.lon, res.lat.shift(1), res.lon.shift(1)) \n",
    "    return res\n",
    "\n",
    "def get_run_summary(data):\n",
    "    '''\n",
    "    Generate a summary of a single run\n",
    "    '''\n",
    "    time = data.time.diff().sum()\n",
    "    dist = data.dist.sum()\n",
    "\n",
    "    # Meters per second\n",
    "    mps = dist/time.total_seconds()\n",
    "\n",
    "    # Time to do 1k (seconds)\n",
    "    t1k = 1000/mps\n",
    "\n",
    "    # To minutes\n",
    "    m, s = divmod(t1k, 60)\n",
    "\n",
    "    td = pd.Timedelta('00:%02d:%02d' % (m, s))\n",
    "    return time, dist, td, t1k\n",
    "    \n",
    "def lat_lon_to_m(lat1, lon1, lat2, lon2):\n",
    "    '''\n",
    "    Adapted from here\n",
    "    http://stackoverflow.com/questions/639695/how-to-convert-latitude-or-longitude-to-meters\n",
    "    '''\n",
    "    R = 6378.137; # Radius of earth in KM\n",
    "    dLat = lat2 * np.pi / 180 - lat1 * np.pi / 180\n",
    "    dLon = lon2 * np.pi / 180 - lon1 * np.pi / 180\n",
    "    a = (np.sin(dLat/2) * np.sin(dLat/2) +\n",
    "        np.cos(lat1 * np.pi / 180) * np.cos(lat2 * np.pi / 180) *\n",
    "        np.sin(dLon/2) * np.sin(dLon/2))\n",
    "    c = 2 * np.arctan2(np.sqrt(a), np.sqrt(1-a))\n",
    "    d = R * c;\n",
    "    return d * 1000; # meters"
   ]
  },
  {
   "cell_type": "code",
   "execution_count": 2,
   "metadata": {
    "collapsed": false,
    "deletable": true,
    "editable": true,
    "scrolled": true
   },
   "outputs": [
    {
     "data": {
      "text/plain": [
       "<matplotlib.axes._subplots.AxesSubplot at 0x113623940>"
      ]
     },
     "execution_count": 2,
     "metadata": {},
     "output_type": "execute_result"
    },
    {
     "data": {
      "image/png": "[encoded data removed]",
      "text/plain": [
       "<matplotlib.figure.Figure at 0x113623da0>"
      ]
     },
     "metadata": {},
     "output_type": "display_data"
    }
   ],
   "source": [
    "# Build an aggregate dataframe of mean times for each runs\n",
    "runs = {k:[] for k in ['time', 'dist', 'td', 'start', 't1k']}\n",
    "for f in glob('activities/*.gpx'):\n",
    "    data = load_file(f)\n",
    "    time, dist, td, t1k = get_run_summary(data)\n",
    "    runs['time'].append(time)\n",
    "    runs['dist'].append(dist)\n",
    "    runs['td'].append(td)\n",
    "    runs['t1k'].append(t1k/60)\n",
    "    runs['start'].append(data.time.values[0])\n",
    "runs = pd.DataFrame(runs)\n",
    "\n",
    "# Simple outlier exclusion\n",
    "runs = runs[runs.dist<20000]\n",
    "runs = runs[runs.dist>1000]\n",
    "runs = runs[runs.t1k<10]\n",
    "\n",
    "\n",
    "runs.plot(x='start', y='dist', style='o')"
   ]
  },
  {
   "cell_type": "code",
   "execution_count": 3,
   "metadata": {
    "collapsed": false,
    "deletable": true,
    "editable": true
   },
   "outputs": [
    {
     "data": {
      "text/plain": [
       "<matplotlib.axes._subplots.AxesSubplot at 0x10f0911d0>"
      ]
     },
     "execution_count": 3,
     "metadata": {},
     "output_type": "execute_result"
    },
    {
     "data": {
      "image/png": "[encoded data removed]",
      "text/plain": [
       "<matplotlib.figure.Figure at 0x10f091ba8>"
      ]
     },
     "metadata": {},
     "output_type": "display_data"
    }
   ],
   "source": [
    "runs.plot(x='start', y='t1k',style='o')"
   ]
  }
 ],
 "metadata": {
  "kernelspec": {
   "display_name": "Python 3",
   "language": "python",
   "name": "python3"
  },
  "language_info": {
   "codemirror_mode": {
    "name": "ipython",
    "version": 3
   },
   "file_extension": ".py",
   "mimetype": "text/x-python",
   "name": "python",
   "nbconvert_exporter": "python",
   "pygments_lexer": "ipython3",
   "version": "3.5.1"
  }
 },
 "nbformat": 4,
 "nbformat_minor": 2
}
